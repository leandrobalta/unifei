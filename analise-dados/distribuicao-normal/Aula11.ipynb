{
 "cells": [
  {
   "attachments": {},
   "cell_type": "markdown",
   "metadata": {},
   "source": [
    "## Distribuição Normal"
   ]
  },
  {
   "cell_type": "code",
   "execution_count": 1,
   "metadata": {},
   "outputs": [],
   "source": [
    "import numpy as np\n",
    "import matplotlib.pyplot as plt\n",
    "import seaborn as sns"
   ]
  },
  {
   "attachments": {},
   "cell_type": "markdown",
   "metadata": {},
   "source": [
    "Considere que uma manufatura fabrica barras de aço de 100 mm, com um desvio padrão de 2 mm. Vamos simular a geração de barras com essa distribuição de probabilidade."
   ]
  },
  {
   "cell_type": "code",
   "execution_count": null,
   "metadata": {},
   "outputs": [],
   "source": []
  },
  {
   "attachments": {},
   "cell_type": "markdown",
   "metadata": {},
   "source": [
    "Vamos agora simular a produção de 10 barras."
   ]
  },
  {
   "cell_type": "code",
   "execution_count": null,
   "metadata": {},
   "outputs": [],
   "source": []
  },
  {
   "attachments": {},
   "cell_type": "markdown",
   "metadata": {},
   "source": [
    "Vamos melhorar nosso resultado mostrando 2 casas decimais após o ponto."
   ]
  },
  {
   "cell_type": "code",
   "execution_count": null,
   "metadata": {},
   "outputs": [],
   "source": []
  },
  {
   "attachments": {},
   "cell_type": "markdown",
   "metadata": {},
   "source": [
    "Vamos agora gerar 1.000 valores de acordo com nossa distribuição normal e plotar um histograma com esses valores."
   ]
  },
  {
   "cell_type": "code",
   "execution_count": null,
   "metadata": {},
   "outputs": [],
   "source": []
  },
  {
   "attachments": {},
   "cell_type": "markdown",
   "metadata": {},
   "source": [
    "Vamos aumentar para 1 milhão de valores (simular a produção de 1 milhão de barras)."
   ]
  },
  {
   "cell_type": "code",
   "execution_count": null,
   "metadata": {},
   "outputs": [],
   "source": []
  },
  {
   "attachments": {},
   "cell_type": "markdown",
   "metadata": {},
   "source": [
    "Vimos que a área que está entre 1 desvio padrão para mais e para menos corresponde a aproximadamente 68% da área total, 2 desvios padrão, 95%, e 3 desvios padrão, 99,7%. \\\n",
    "Vamos checar esses valores na prática."
   ]
  },
  {
   "cell_type": "code",
   "execution_count": null,
   "metadata": {},
   "outputs": [],
   "source": []
  },
  {
   "cell_type": "code",
   "execution_count": null,
   "metadata": {},
   "outputs": [],
   "source": []
  },
  {
   "cell_type": "code",
   "execution_count": null,
   "metadata": {},
   "outputs": [],
   "source": []
  },
  {
   "attachments": {},
   "cell_type": "markdown",
   "metadata": {},
   "source": [
    "Vamos agora usar o pacote stats para realizar cálculos utilizando a distribuição normal."
   ]
  },
  {
   "cell_type": "code",
   "execution_count": null,
   "metadata": {},
   "outputs": [],
   "source": []
  },
  {
   "attachments": {},
   "cell_type": "markdown",
   "metadata": {},
   "source": [
    "Questão 1 \\\n",
    "Frascos de perfume são preenchidos com um volume médio de 150 ml, com um desvio padrão de 2 ml. Qual a porcentagem de frascos que terão mais de 153 ml?"
   ]
  },
  {
   "attachments": {},
   "cell_type": "markdown",
   "metadata": {},
   "source": [
    "Funções:\n",
    "norm.cdf(x, mu, sigma) - Cumulative distribution function - igual ou menos que \\\n",
    "norm.pdf(x, mu, sigma) - Probability density function - para o valor exato \\\n",
    "norm.sf(x, mu, sigma) - Para mais que (similar a 1 - cdf) \\\n",
    "norm.mean(mu) - Para a média da distribuição \\\n",
    "norm.var(mu) - Para a variância da distribuição \\\n",
    "norm.std(mu) - Para o desvio padrão da distribuição"
   ]
  },
  {
   "cell_type": "code",
   "execution_count": null,
   "metadata": {},
   "outputs": [],
   "source": []
  },
  {
   "attachments": {},
   "cell_type": "markdown",
   "metadata": {},
   "source": [
    "Questão 2 \\\n",
    "Frascos de perfume são preenchidos com um volume médio de 150 ml, com um desvio padrão de 2 ml. Qual a porcentagem de frascos que terão entre 148 e 152 ml de volume?"
   ]
  },
  {
   "cell_type": "code",
   "execution_count": null,
   "metadata": {},
   "outputs": [],
   "source": []
  },
  {
   "attachments": {},
   "cell_type": "markdown",
   "metadata": {},
   "source": [
    "Vamos agora plotar a distribuição normal do nosso exemplo. Para tanto, vamos gerar um vetor que vai de -3 sigma (144) até 3 sigma (156), posteriormente, usaremos a função pmf para obter o valor da probabilidade desses 13 valores."
   ]
  },
  {
   "cell_type": "code",
   "execution_count": null,
   "metadata": {},
   "outputs": [],
   "source": []
  },
  {
   "cell_type": "code",
   "execution_count": null,
   "metadata": {},
   "outputs": [],
   "source": []
  }
 ],
 "metadata": {
  "kernelspec": {
   "display_name": "Python 3",
   "language": "python",
   "name": "python3"
  },
  "language_info": {
   "codemirror_mode": {
    "name": "ipython",
    "version": 3
   },
   "file_extension": ".py",
   "mimetype": "text/x-python",
   "name": "python",
   "nbconvert_exporter": "python",
   "pygments_lexer": "ipython3",
   "version": "3.11.4"
  },
  "orig_nbformat": 4
 },
 "nbformat": 4,
 "nbformat_minor": 2
}
